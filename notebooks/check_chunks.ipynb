{
 "cells": [
  {
   "cell_type": "code",
   "execution_count": 1,
   "metadata": {},
   "outputs": [],
   "source": [
    "import os\n",
    "import boto3\n",
    "import pandas as pd\n",
    "\n",
    "from io import BytesIO\n",
    "from dotenv import load_dotenv\n",
    "\n",
    "load_dotenv()\n",
    "\n",
    "ACCESS_KEY = os.getenv('AK')\n",
    "SECRET_KEY = os.getenv('SK')"
   ]
  },
  {
   "cell_type": "code",
   "execution_count": 2,
   "metadata": {},
   "outputs": [],
   "source": [
    "s3_client = boto3.client('s3', aws_access_key_id=ACCESS_KEY, aws_secret_access_key=SECRET_KEY, region_name='us-east-1')"
   ]
  },
  {
   "cell_type": "code",
   "execution_count": 3,
   "metadata": {},
   "outputs": [],
   "source": [
    "bucket_objs = s3_client.list_objects_v2(Bucket=\"unlabeled-news\")"
   ]
  },
  {
   "cell_type": "code",
   "execution_count": 4,
   "metadata": {},
   "outputs": [],
   "source": [
    "keys = [elem['Key'] for elem in bucket_objs['Contents']]"
   ]
  },
  {
   "cell_type": "code",
   "execution_count": 5,
   "metadata": {},
   "outputs": [
    {
     "data": {
      "text/plain": [
       "['aevangelides/unlabeled_dataset.parquet.gzip',\n",
       " 'amarinnunezdearce/unlabeled_dataset.parquet.gzip',\n",
       " 'amontoya/unlabeled_dataset.parquet.gzip',\n",
       " 'apillai/unlabeled_dataset.parquet.gzip',\n",
       " 'ctoruno/unlabeled_dataset.parquet.gzip',\n",
       " 'dbarba/unlabeled_dataset.parquet.gzip',\n",
       " 'dhabiby/unlabeled_dataset.parquet.gzip',\n",
       " 'ecampbell/unlabeled_dataset.parquet.gzip',\n",
       " 'gdurbano/unlabeled_dataset.parquet.gzip',\n",
       " 'ghulseman/unlabeled_dataset.parquet.gzip',\n",
       " 'gnunezperalta/unlabeled_dataset.parquet.gzip',\n",
       " 'hortiz/unlabeled_dataset.parquet.gzip',\n",
       " 'hrigazzi/unlabeled_dataset.parquet.gzip',\n",
       " 'hsoukireyes/unlabeled_dataset.parquet.gzip',\n",
       " 'jcullen/unlabeled_dataset.parquet.gzip',\n",
       " 'jdavis/unlabeled_dataset.parquet.gzip',\n",
       " 'kwanner/unlabeled_dataset.parquet.gzip',\n",
       " 'lcleary/unlabeled_dataset.parquet.gzip',\n",
       " 'llittlejohn/unlabeled_dataset.parquet.gzip',\n",
       " 'lsolis/unlabeled_dataset.parquet.gzip',\n",
       " 'mbasystiuk/unlabeled_dataset.parquet.gzip',\n",
       " 'mrodriguez/unlabeled_dataset.parquet.gzip',\n",
       " 'mwoodbury/unlabeled_dataset.parquet.gzip',\n",
       " 'nrodriguez/unlabeled_dataset.parquet.gzip',\n",
       " 'pgonzalez/unlabeled_dataset.parquet.gzip',\n",
       " 'spardo/unlabeled_dataset.parquet.gzip']"
      ]
     },
     "execution_count": 5,
     "metadata": {},
     "output_type": "execute_result"
    }
   ],
   "source": [
    "keys"
   ]
  },
  {
   "cell_type": "code",
   "execution_count": 6,
   "metadata": {},
   "outputs": [],
   "source": [
    "dfs = [pd.read_parquet(BytesIO(s3_client.get_object(Bucket=\"unlabeled-news\", Key=elem['Key'])['Body'].read())) for elem in bucket_objs['Contents']]"
   ]
  },
  {
   "cell_type": "code",
   "execution_count": null,
   "metadata": {},
   "outputs": [],
   "source": [
    "[len(df) for df in dfs]"
   ]
  },
  {
   "cell_type": "code",
   "execution_count": null,
   "metadata": {},
   "outputs": [],
   "source": [
    "article_ids = [df.article_id.unique().tolist() for df in dfs]"
   ]
  },
  {
   "cell_type": "code",
   "execution_count": null,
   "metadata": {},
   "outputs": [],
   "source": [
    "result = set(article_ids[0])\n",
    "for s in article_ids[1:]:\n",
    "    result.intersection_update(s)\n",
    "print(result)"
   ]
  },
  {
   "cell_type": "code",
   "execution_count": null,
   "metadata": {},
   "outputs": [],
   "source": [
    "len(result)"
   ]
  },
  {
   "cell_type": "code",
   "execution_count": null,
   "metadata": {},
   "outputs": [],
   "source": []
  }
 ],
 "metadata": {
  "kernelspec": {
   "display_name": "textclassification",
   "language": "python",
   "name": "python3"
  },
  "language_info": {
   "codemirror_mode": {
    "name": "ipython",
    "version": 3
   },
   "file_extension": ".py",
   "mimetype": "text/x-python",
   "name": "python",
   "nbconvert_exporter": "python",
   "pygments_lexer": "ipython3",
   "version": "3.10.13"
  },
  "orig_nbformat": 4
 },
 "nbformat": 4,
 "nbformat_minor": 2
}
