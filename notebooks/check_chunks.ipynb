{
 "cells": [
  {
   "cell_type": "code",
   "execution_count": 1,
   "metadata": {},
   "outputs": [],
   "source": [
    "import os\n",
    "import boto3\n",
    "import pandas as pd\n",
    "\n",
    "from io import BytesIO\n",
    "from dotenv import load_dotenv\n",
    "\n",
    "load_dotenv()\n",
    "\n",
    "ACCESS_KEY = os.getenv('AK')\n",
    "SECRET_KEY = os.getenv('SK')"
   ]
  },
  {
   "cell_type": "code",
   "execution_count": 2,
   "metadata": {},
   "outputs": [],
   "source": [
    "s3_client = boto3.client('s3', aws_access_key_id=ACCESS_KEY, aws_secret_access_key=SECRET_KEY, region_name='us-east-1')\n",
    "bucket_objs = s3_client.list_objects_v2(Bucket=\"unlabeled-news\")\n",
    "keys = [elem['Key'] for elem in bucket_objs['Contents']]"
   ]
  },
  {
   "cell_type": "code",
   "execution_count": 3,
   "metadata": {},
   "outputs": [
    {
     "data": {
      "text/plain": [
       "['aevangelides/unlabeled_dataset.parquet.gzip',\n",
       " 'amarinnunezdearce/unlabeled_dataset.parquet.gzip',\n",
       " 'amontoya/unlabeled_dataset.parquet.gzip',\n",
       " 'apillai/unlabeled_dataset.parquet.gzip',\n",
       " 'ctoruno/unlabeled_dataset.parquet.gzip',\n",
       " 'dbarba/unlabeled_dataset.parquet.gzip',\n",
       " 'dhabiby/unlabeled_dataset.parquet.gzip',\n",
       " 'ecampbell/unlabeled_dataset.parquet.gzip',\n",
       " 'gdurbano/unlabeled_dataset.parquet.gzip',\n",
       " 'ghulseman/unlabeled_dataset.parquet.gzip',\n",
       " 'gnunezperalta/unlabeled_dataset.parquet.gzip',\n",
       " 'hortiz/unlabeled_dataset.parquet.gzip',\n",
       " 'hrigazzi/unlabeled_dataset.parquet.gzip',\n",
       " 'hsoukireyes/unlabeled_dataset.parquet.gzip',\n",
       " 'jcullen/unlabeled_dataset.parquet.gzip',\n",
       " 'jdavis/unlabeled_dataset.parquet.gzip',\n",
       " 'kwanner/unlabeled_dataset.parquet.gzip',\n",
       " 'lcleary/unlabeled_dataset.parquet.gzip',\n",
       " 'llittlejohn/unlabeled_dataset.parquet.gzip',\n",
       " 'lsolis/unlabeled_dataset.parquet.gzip',\n",
       " 'mbasystiuk/unlabeled_dataset.parquet.gzip',\n",
       " 'mrodriguez/unlabeled_dataset.parquet.gzip',\n",
       " 'mwoodbury/unlabeled_dataset.parquet.gzip',\n",
       " 'nrodriguez/unlabeled_dataset.parquet.gzip',\n",
       " 'pgonzalez/unlabeled_dataset.parquet.gzip',\n",
       " 'spardo/unlabeled_dataset.parquet.gzip']"
      ]
     },
     "execution_count": 3,
     "metadata": {},
     "output_type": "execute_result"
    }
   ],
   "source": [
    "keys"
   ]
  },
  {
   "cell_type": "code",
   "execution_count": 4,
   "metadata": {},
   "outputs": [],
   "source": [
    "dfs = [pd.read_parquet(BytesIO(s3_client.get_object(Bucket=\"unlabeled-news\", Key=elem['Key'])['Body'].read())) for elem in bucket_objs['Contents']]\n",
    "full_data = pd.concat(dfs).reset_index(drop=True).copy()"
   ]
  },
  {
   "cell_type": "code",
   "execution_count": 5,
   "metadata": {},
   "outputs": [
    {
     "data": {
      "text/plain": [
       "[203,\n",
       " 203,\n",
       " 203,\n",
       " 204,\n",
       " 203,\n",
       " 203,\n",
       " 204,\n",
       " 203,\n",
       " 204,\n",
       " 203,\n",
       " 203,\n",
       " 203,\n",
       " 203,\n",
       " 204,\n",
       " 204,\n",
       " 203,\n",
       " 204,\n",
       " 204,\n",
       " 204,\n",
       " 203,\n",
       " 204,\n",
       " 203,\n",
       " 203,\n",
       " 203,\n",
       " 203,\n",
       " 203]"
      ]
     },
     "execution_count": 5,
     "metadata": {},
     "output_type": "execute_result"
    }
   ],
   "source": [
    "[len(df) for df in dfs]"
   ]
  },
  {
   "cell_type": "code",
   "execution_count": 6,
   "metadata": {},
   "outputs": [],
   "source": [
    "article_ids = [df.article_id.unique().tolist() for df in dfs]"
   ]
  },
  {
   "cell_type": "code",
   "execution_count": 7,
   "metadata": {},
   "outputs": [
    {
     "name": "stdout",
     "output_type": "stream",
     "text": [
      "{'94cdcf3920a871dd8ab8c2574e7bab97', 'e351e199119846c040d8aa29c464247d', '79d1f83cba0c3018a10bcd56630639f7', 'c0ecb227f645932ff8c7756a29efcde6', 'cd8bb7485063a1b057cfb1f59305de07', '545c1bf4c41991f67ae3e0ea3394b360', '0e7248e15d70813de7e14b28ebd8ca3d', 'cca17a78b6697eb9d93a17030638595d', '2c886c2fc437d97bcf6efc783c6135e8', '4be96168a1d9a163a2546cf3ff65eabc', 'ff0aa25f8182aa9c73decdf3f8bfb05f', '6fa6a90d9c2f9895992f98bf01f36b50', '5742083e52f0b28cb5fcc823aac05b89', '1e2e763ff24b2185dda89dcbe5927066', '115f439badbba1bea9e72d4b0071be5d', 'e81c3c1704096a3ba01aa2ed6af70ee8', '05cc6e5ba0b291fd717413aa221093e3', '6c2add1a1d9ac120a82f97dd015ff9fd', '78835ef811e4ff0dee77359c2b4770f5', 'b1c82fed689a6c613be35af335d7d76e', '95c51fa4335ef7d0b1161c8802f64892', 'd7d438d45e6114305722148d98a00157', 'b33857368fcb0256e028d4eec8fd7ef2', 'fa07a7d9886fbb61bf4ed851f7a537aa', 'ec389b64dab16604c6463505e31b6966', 'ca82e813effc9a0e1c8bdd0f47a7ed53', '0cefab77ea5d8a106f502aa0d8ee03fd', '33a5693e616ef42586e3d6173416e4b7', '4e8e7307242acfa7ef31c05c7a98eb35', 'ab510a5b7b3f2ac4daea10d6615b5f9e', '0e49e306bb02b8353e7fa4499638af93', 'f6c305f3924a1669e97057a2724abc30', '6f43c029834a17ee53b609916fe4bc63', 'c6b2d0b42ce573d27135f0f2f10aac2f', '928728aba803b0a61ecc76ea9b7ddb22', '5b3033b7646c124e2a893f135d6b6718', 'a75ef94791ba5d7fe24dee30c65ebcae', '3ad3ad21566d46a88c894ad33b7dc914', '71ed262440a70ca8e5f50a04e015251d', '54a537c860fabf4241bb982277f7dd03'}\n"
     ]
    }
   ],
   "source": [
    "common_article_ids = set(article_ids[0])\n",
    "for s in article_ids[1:]:\n",
    "    common_article_ids.intersection_update(s)\n",
    "print(common_article_ids)"
   ]
  },
  {
   "cell_type": "code",
   "execution_count": 8,
   "metadata": {},
   "outputs": [
    {
     "data": {
      "text/plain": [
       "40"
      ]
     },
     "execution_count": 8,
     "metadata": {},
     "output_type": "execute_result"
    }
   ],
   "source": [
    "len(common_article_ids)"
   ]
  },
  {
   "cell_type": "code",
   "execution_count": 11,
   "metadata": {},
   "outputs": [],
   "source": [
    "full_data[full_data.article_id.isin(common_article_ids)].reset_index(drop=True).drop_duplicates(subset=['title_eng']).to_csv('common_news_chunk.csv', index=False)"
   ]
  },
  {
   "cell_type": "markdown",
   "metadata": {},
   "source": [
    "### Estimate OpenAI cost"
   ]
  },
  {
   "cell_type": "code",
   "execution_count": null,
   "metadata": {},
   "outputs": [],
   "source": [
    "titles = ' '.join(full_data[full_data.article_id.isin(common_article_ids)].reset_index(drop=True).title_eng.tolist())\n",
    "descriptions = ' '.join(full_data[full_data.article_id.isin(common_article_ids)].reset_index(drop=True).desc_eng.tolist())\n",
    "contents = ' '.join(full_data[full_data.article_id.isin(common_article_ids)].reset_index(drop=True).content_eng.tolist())\n",
    "\n",
    "full_data_text = titles + descriptions + contents\n",
    "print(len(full_data_text.split(' ')))"
   ]
  },
  {
   "cell_type": "code",
   "execution_count": null,
   "metadata": {},
   "outputs": [],
   "source": [
    "title_texts = full_data[full_data.article_id.isin(common_article_ids)].reset_index(drop=True).drop_duplicates(subset=['title_eng']).title_eng.tolist()"
   ]
  },
  {
   "cell_type": "code",
   "execution_count": null,
   "metadata": {},
   "outputs": [],
   "source": [
    "pd.DataFrame({'title': title_texts}).to_csv('common_news_title.csv', index=False)"
   ]
  },
  {
   "cell_type": "code",
   "execution_count": null,
   "metadata": {},
   "outputs": [],
   "source": [
    "full_data"
   ]
  },
  {
   "cell_type": "code",
   "execution_count": null,
   "metadata": {},
   "outputs": [],
   "source": []
  }
 ],
 "metadata": {
  "kernelspec": {
   "display_name": "textclassification",
   "language": "python",
   "name": "python3"
  },
  "language_info": {
   "codemirror_mode": {
    "name": "ipython",
    "version": 3
   },
   "file_extension": ".py",
   "mimetype": "text/x-python",
   "name": "python",
   "nbconvert_exporter": "python",
   "pygments_lexer": "ipython3",
   "version": "3.10.13"
  },
  "orig_nbformat": 4
 },
 "nbformat": 4,
 "nbformat_minor": 2
}
